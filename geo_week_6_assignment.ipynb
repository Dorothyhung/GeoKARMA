{
 "cells": [
  {
   "cell_type": "markdown",
   "id": "b555a877-6f29-4828-af73-250e652c2942",
   "metadata": {},
   "source": [
    "# Week 6 Assignment\n",
    "## Multiclass Classification\n",
    "\n",
    "In this assignment you will create a training dataset for NLCD landcover classification (multiclass) and train two models for that task (logistic regression [one-vs-many] / decision tree)\n",
    "\n",
    "__Raster Files__: \n",
    "\n",
    "    - Landsat.tif (remotely sensed data in the form of surface reflactance, will be used as the input to our models) [values (0 - 10000)] numerical\n",
    "    - Impervious.tif (NLCD fractional impervious map, will be used as our \"ground truth\" in training some of our modes) [values (0 - 100)] numerical\n",
    "    - Dem.tif (ancillary data in the form of elevation data) [values (0 - 10000)] numerical\n",
    "    - Aspect.tif (ancillary data in the form of downslope direction) [values (0 - 8)] categorical\n",
    "    - Posidex.tif (ancially date in the form of positional index) [values (0 - 100)] numerical\n",
    "    - Wetlands.tif (ancillary data in the form of wetlands information) [values (0 - 17)] categorical"
   ]
  },
  {
   "cell_type": "markdown",
   "id": "a730ceb8-75f7-4abb-a840-bbe7033d5a5a",
   "metadata": {},
   "source": [
    "# Part 1. Processing the Data"
   ]
  },
  {
   "cell_type": "markdown",
   "id": "2e2bc37f-8d6d-4f37-9d27-a1b694881019",
   "metadata": {},
   "source": [
    "## 1. Import the required libraries\n",
    "\n",
    "> __HINT__: Find the libraries you need to import in the assignment instructions"
   ]
  },
  {
   "cell_type": "code",
   "execution_count": 1,
   "id": "ca1edeca-5c73-4d7f-bbbb-0c1b6e3b422a",
   "metadata": {
    "tags": []
   },
   "outputs": [],
   "source": [
    "import numpy as np\n",
    "import pandas as pd\n",
    "import seaborn as sns\n",
    "import matplotlib.pyplot as plt\n",
    "import sklearn.preprocessing as preprocessing\n",
    "from sklearn.model_selection import train_test_split\n",
    "\n",
    "from sklearn.tree import DecisionTreeClassifier\n",
    "from sklearn.multiclass import OneVsRestClassifier\n",
    "from sklearn.linear_model import LogisticRegression\n",
    "\n",
    "from sklearn.metrics import accuracy_score\n",
    "from sklearn import metrics\n",
    "from sklearn.metrics import classification_report"
   ]
  },
  {
   "cell_type": "markdown",
   "id": "a10cb20a-85a5-4c2a-8a27-dd6e504e0202",
   "metadata": {},
   "source": [
    "## 2. Read the dataset\n",
    "> Read in original csv data -> we will create a new processing function for our binary classification task"
   ]
  },
  {
   "cell_type": "code",
   "execution_count": 2,
   "id": "a15729bf-ca43-4fe9-8efd-23b2d8e8d651",
   "metadata": {
    "tags": []
   },
   "outputs": [],
   "source": [
    "dataframe = pd.read_csv('s3://geokarma-testing/geoKARMA_h24v13_pixelbased_dataset.csv')"
   ]
  },
  {
   "cell_type": "markdown",
   "id": "5d571b26-3a87-4efd-8105-87d6d14d92db",
   "metadata": {},
   "source": [
    "## 3. Get basic information about the dataset"
   ]
  },
  {
   "cell_type": "markdown",
   "id": "eabd656f-492d-4c20-bf37-e04e8bd2c3bd",
   "metadata": {
    "tags": []
   },
   "source": [
    "#### 3a. Print dimensions of the dataset"
   ]
  },
  {
   "cell_type": "code",
   "execution_count": 3,
   "id": "c7198a92-98bd-4876-8f49-c6b798277851",
   "metadata": {
    "tags": []
   },
   "outputs": [
    {
     "data": {
      "text/plain": [
       "(500000, 17)"
      ]
     },
     "execution_count": 3,
     "metadata": {},
     "output_type": "execute_result"
    }
   ],
   "source": [
    "dataframe.shape"
   ]
  },
  {
   "cell_type": "markdown",
   "id": "a43ee011-c4c8-43d1-a357-ff40dffa9887",
   "metadata": {},
   "source": [
    "#### 3b. Print the column names"
   ]
  },
  {
   "cell_type": "code",
   "execution_count": 4,
   "id": "45d6fdef",
   "metadata": {},
   "outputs": [
    {
     "data": {
      "text/plain": [
       "Index(['landsat_1', 'landsat_2', 'landsat_3', 'landsat_4', 'landsat_5',\n",
       "       'landsat_6', 'dem_1', 'aspect_1', 'posidex_1', 'wetlands_1',\n",
       "       'landcover_1', 'impervious_1', 'urban_count_7', 'urban_count_5',\n",
       "       'urban_count_3', 'xgeo', 'ygeo'],\n",
       "      dtype='object')"
      ]
     },
     "execution_count": 4,
     "metadata": {},
     "output_type": "execute_result"
    }
   ],
   "source": [
    "dataframe.columns"
   ]
  },
  {
   "cell_type": "markdown",
   "id": "8753afb7-2479-4e91-a4e9-52b25d2bf97e",
   "metadata": {},
   "source": [
    "#### 3c. Print the first five observations"
   ]
  },
  {
   "cell_type": "code",
   "execution_count": 5,
   "id": "80b4c628-5a76-4c22-8619-5548b62cc54a",
   "metadata": {
    "tags": []
   },
   "outputs": [
    {
     "data": {
      "text/html": [
       "<div>\n",
       "<style scoped>\n",
       "    .dataframe tbody tr th:only-of-type {\n",
       "        vertical-align: middle;\n",
       "    }\n",
       "\n",
       "    .dataframe tbody tr th {\n",
       "        vertical-align: top;\n",
       "    }\n",
       "\n",
       "    .dataframe thead th {\n",
       "        text-align: right;\n",
       "    }\n",
       "</style>\n",
       "<table border=\"1\" class=\"dataframe\">\n",
       "  <thead>\n",
       "    <tr style=\"text-align: right;\">\n",
       "      <th></th>\n",
       "      <th>landsat_1</th>\n",
       "      <th>landsat_2</th>\n",
       "      <th>landsat_3</th>\n",
       "      <th>landsat_4</th>\n",
       "      <th>landsat_5</th>\n",
       "      <th>landsat_6</th>\n",
       "      <th>dem_1</th>\n",
       "      <th>aspect_1</th>\n",
       "      <th>posidex_1</th>\n",
       "      <th>wetlands_1</th>\n",
       "      <th>landcover_1</th>\n",
       "      <th>impervious_1</th>\n",
       "      <th>urban_count_7</th>\n",
       "      <th>urban_count_5</th>\n",
       "      <th>urban_count_3</th>\n",
       "      <th>xgeo</th>\n",
       "      <th>ygeo</th>\n",
       "    </tr>\n",
       "  </thead>\n",
       "  <tbody>\n",
       "    <tr>\n",
       "      <th>0</th>\n",
       "      <td>164</td>\n",
       "      <td>373</td>\n",
       "      <td>233</td>\n",
       "      <td>2592</td>\n",
       "      <td>1096</td>\n",
       "      <td>429</td>\n",
       "      <td>254</td>\n",
       "      <td>2</td>\n",
       "      <td>47</td>\n",
       "      <td>0</td>\n",
       "      <td>42</td>\n",
       "      <td>0</td>\n",
       "      <td>14</td>\n",
       "      <td>2</td>\n",
       "      <td>0</td>\n",
       "      <td>1.051155e+06</td>\n",
       "      <td>1.247055e+06</td>\n",
       "    </tr>\n",
       "    <tr>\n",
       "      <th>1</th>\n",
       "      <td>271</td>\n",
       "      <td>418</td>\n",
       "      <td>292</td>\n",
       "      <td>2782</td>\n",
       "      <td>1439</td>\n",
       "      <td>635</td>\n",
       "      <td>257</td>\n",
       "      <td>15</td>\n",
       "      <td>28</td>\n",
       "      <td>0</td>\n",
       "      <td>41</td>\n",
       "      <td>0</td>\n",
       "      <td>17</td>\n",
       "      <td>10</td>\n",
       "      <td>4</td>\n",
       "      <td>1.056225e+06</td>\n",
       "      <td>1.241565e+06</td>\n",
       "    </tr>\n",
       "    <tr>\n",
       "      <th>2</th>\n",
       "      <td>454</td>\n",
       "      <td>832</td>\n",
       "      <td>850</td>\n",
       "      <td>3860</td>\n",
       "      <td>2671</td>\n",
       "      <td>1476</td>\n",
       "      <td>277</td>\n",
       "      <td>1</td>\n",
       "      <td>45</td>\n",
       "      <td>-1</td>\n",
       "      <td>81</td>\n",
       "      <td>0</td>\n",
       "      <td>0</td>\n",
       "      <td>0</td>\n",
       "      <td>0</td>\n",
       "      <td>1.128015e+06</td>\n",
       "      <td>1.313925e+06</td>\n",
       "    </tr>\n",
       "    <tr>\n",
       "      <th>3</th>\n",
       "      <td>187</td>\n",
       "      <td>345</td>\n",
       "      <td>198</td>\n",
       "      <td>2469</td>\n",
       "      <td>1117</td>\n",
       "      <td>441</td>\n",
       "      <td>242</td>\n",
       "      <td>8</td>\n",
       "      <td>27</td>\n",
       "      <td>-1</td>\n",
       "      <td>42</td>\n",
       "      <td>0</td>\n",
       "      <td>0</td>\n",
       "      <td>0</td>\n",
       "      <td>0</td>\n",
       "      <td>1.124175e+06</td>\n",
       "      <td>1.282395e+06</td>\n",
       "    </tr>\n",
       "    <tr>\n",
       "      <th>4</th>\n",
       "      <td>481</td>\n",
       "      <td>715</td>\n",
       "      <td>731</td>\n",
       "      <td>3519</td>\n",
       "      <td>2286</td>\n",
       "      <td>1386</td>\n",
       "      <td>239</td>\n",
       "      <td>1</td>\n",
       "      <td>91</td>\n",
       "      <td>0</td>\n",
       "      <td>21</td>\n",
       "      <td>13</td>\n",
       "      <td>16</td>\n",
       "      <td>11</td>\n",
       "      <td>5</td>\n",
       "      <td>1.156905e+06</td>\n",
       "      <td>1.320645e+06</td>\n",
       "    </tr>\n",
       "  </tbody>\n",
       "</table>\n",
       "</div>"
      ],
      "text/plain": [
       "   landsat_1  landsat_2  landsat_3  landsat_4  landsat_5  landsat_6  dem_1   \n",
       "0        164        373        233       2592       1096        429    254  \\\n",
       "1        271        418        292       2782       1439        635    257   \n",
       "2        454        832        850       3860       2671       1476    277   \n",
       "3        187        345        198       2469       1117        441    242   \n",
       "4        481        715        731       3519       2286       1386    239   \n",
       "\n",
       "   aspect_1  posidex_1  wetlands_1  landcover_1  impervious_1  urban_count_7   \n",
       "0         2         47           0           42             0             14  \\\n",
       "1        15         28           0           41             0             17   \n",
       "2         1         45          -1           81             0              0   \n",
       "3         8         27          -1           42             0              0   \n",
       "4         1         91           0           21            13             16   \n",
       "\n",
       "   urban_count_5  urban_count_3          xgeo          ygeo  \n",
       "0              2              0  1.051155e+06  1.247055e+06  \n",
       "1             10              4  1.056225e+06  1.241565e+06  \n",
       "2              0              0  1.128015e+06  1.313925e+06  \n",
       "3              0              0  1.124175e+06  1.282395e+06  \n",
       "4             11              5  1.156905e+06  1.320645e+06  "
      ]
     },
     "execution_count": 5,
     "metadata": {},
     "output_type": "execute_result"
    }
   ],
   "source": [
    "dataframe.head()"
   ]
  },
  {
   "cell_type": "markdown",
   "id": "7348779b-b4a1-4222-bb36-8259fcd6d620",
   "metadata": {},
   "source": [
    "#### 3d. Print the datatypes of the columns in the dataset using .dtypes"
   ]
  },
  {
   "cell_type": "code",
   "execution_count": 6,
   "id": "bb2b3bcc-92bf-4674-8a72-52dbe8d7546e",
   "metadata": {
    "tags": []
   },
   "outputs": [
    {
     "data": {
      "text/plain": [
       "landsat_1          int64\n",
       "landsat_2          int64\n",
       "landsat_3          int64\n",
       "landsat_4          int64\n",
       "landsat_5          int64\n",
       "landsat_6          int64\n",
       "dem_1              int64\n",
       "aspect_1           int64\n",
       "posidex_1          int64\n",
       "wetlands_1         int64\n",
       "landcover_1        int64\n",
       "impervious_1       int64\n",
       "urban_count_7      int64\n",
       "urban_count_5      int64\n",
       "urban_count_3      int64\n",
       "xgeo             float64\n",
       "ygeo             float64\n",
       "dtype: object"
      ]
     },
     "execution_count": 6,
     "metadata": {},
     "output_type": "execute_result"
    }
   ],
   "source": [
    "dataframe.dtypes"
   ]
  },
  {
   "cell_type": "markdown",
   "id": "89b059cf-d2db-49a1-a796-b977a98e7bd8",
   "metadata": {},
   "source": [
    "## EXPLORATORY DATA ANALYSIS"
   ]
  },
  {
   "cell_type": "markdown",
   "id": "6401afc3-d442-428c-9a46-2a30670fba7e",
   "metadata": {},
   "source": [
    "## 4. Univariate exploratory data analysis"
   ]
  },
  {
   "cell_type": "markdown",
   "id": "aa08ef96-df5e-47e4-8805-ca0edda2581a",
   "metadata": {},
   "source": [
    "> __COUNTPLOT:__ A countplot shows the number of occurrences of each value (category) in the data.\n",
    "\n",
    "> __seaborn.countplot()__ method is used to show the counts of observations in each category using bars.\n",
    "\n",
    "> Seaborn is a Python data visualization library that provides a high-level interface for drawing attractive and informative statistical graphics."
   ]
  },
  {
   "cell_type": "markdown",
   "id": "de3cca85-25e9-4909-96ae-75614ae0ec01",
   "metadata": {},
   "source": [
    "#### 4a. Plot a countplot of \"landcover_1\"\n",
    "> __NOTE__: It is important to take a look at the distribution of the \"target\" class"
   ]
  },
  {
   "cell_type": "code",
   "execution_count": 7,
   "id": "3e25309e-1eed-4eef-a8f9-0be53b91057a",
   "metadata": {
    "tags": []
   },
   "outputs": [
    {
     "data": {
      "image/png": "[encoded data removed]",
      "text/plain": [
       "<Figure size 640x480 with 1 Axes>"
      ]
     },
     "metadata": {},
     "output_type": "display_data"
    }
   ],
   "source": [
    "sns.countplot(x=\"landcover_1\", data=dataframe)\n",
    "plt.show()"
   ]
  },
  {
   "cell_type": "markdown",
   "id": "0407e44a-5ce4-4ee4-b0af-43809af03eaf",
   "metadata": {},
   "source": [
    "# 4b. Print all unique values in the 'landcover_1' column"
   ]
  },
  {
   "cell_type": "code",
   "execution_count": 8,
   "id": "6fbe19e1-44b4-47ae-83f3-db133c2d1fbb",
   "metadata": {
    "tags": []
   },
   "outputs": [
    {
     "data": {
      "text/plain": [
       "array([42, 41, 81, 21, 99, 24, 43, 23, 22, 11, 90,  0, 71, 52, 31, 82, 95])"
      ]
     },
     "execution_count": 8,
     "metadata": {},
     "output_type": "execute_result"
    }
   ],
   "source": [
    "dataframe['landcover_1'].unique()"
   ]
  },
  {
   "cell_type": "markdown",
   "id": "c3d95ba3-5423-455f-8bec-0c2703a47566",
   "metadata": {},
   "source": [
    "## 5. Print a heatmap with correlations of the numerical variables\n",
    "\n",
    "> __HINT__: You can check the assignment instructions for the code\n",
    "\n",
    ">__HINT__: numerical values = ['landsat_1', 'landsat_2', 'landsat_3', 'landsat_4', 'landsat_5',\n",
    "       'landsat_6', 'dem_1', 'posidex_1', \n",
    "       'landcover_1']"
   ]
  },
  {
   "cell_type": "code",
   "execution_count": 9,
   "id": "59dec028-6e1b-4f4d-9539-09a0b689fbe1",
   "metadata": {
    "tags": []
   },
   "outputs": [
    {
     "data": {
      "text/plain": [
       "<Axes: >"
      ]
     },
     "execution_count": 9,
     "metadata": {},
     "output_type": "execute_result"
    },
    {
     "data": {
      "image/png": "[encoded data removed]",
      "text/plain": [
       "<Figure size 640x480 with 2 Axes>"
      ]
     },
     "metadata": {},
     "output_type": "display_data"
    }
   ],
   "source": [
    "values = ['landsat_1', 'landsat_2', 'landsat_3', 'landsat_4', 'landsat_5', 'landsat_6', 'dem_1', 'posidex_1', 'landcover_1']\n",
    "sns.heatmap(dataframe[values].corr(), annot=True, vmin=-1.0, vmax=1.0, cmap=\"Blues\")"
   ]
  },
  {
   "cell_type": "markdown",
   "id": "86f87cac-807b-41b3-8e5c-872e31ab213e",
   "metadata": {},
   "source": [
    "## 6. Define Processing Function\n",
    ">__HINT__: create a python function take takes as input the path to your csv and returns a preprocessed dataframe following all the PROCESSING steps you completed in this assignment\n",
    "\n",
    ">__HINT__: want to remove the invalid values and one-hot encode the categorical features and fill the missing/no-data values (what are the valid values for landcover_1 (remove any observations not in the valid range)\n",
    "\n",
    ">__NOTE__: write out the functions you use a lot to a functions.py file that way you can import then from that file and not rewrite them in each new notebook\n",
    "\n",
    ">__i.e__: from functions import one_hot_encode, regression_preprocess, binary_classification_preprocess\n",
    "\n",
    "Write this function into the functions.py file and then import it into this notebook for use"
   ]
  },
  {
   "cell_type": "code",
   "execution_count": 10,
   "id": "6a2430d7-535f-42f2-adc5-44287aa4cfd6",
   "metadata": {
    "tags": []
   },
   "outputs": [],
   "source": [
    "from functions import one_hot_encode, multiclass_classification_preprocess"
   ]
  },
  {
   "cell_type": "markdown",
   "id": "b72a1cba-72b6-424d-b01c-8e5d035190fa",
   "metadata": {},
   "source": [
    "## 6a. Create new preprocessed dataframe using your processing function"
   ]
  },
  {
   "cell_type": "code",
   "execution_count": 11,
   "id": "2e2ef5a4-7f0a-46c8-86f3-aa907661d7d7",
   "metadata": {
    "tags": []
   },
   "outputs": [],
   "source": [
    "processed = multiclass_classification_preprocess('s3://geokarma-testing/geoKARMA_h24v13_pixelbased_dataset.csv')"
   ]
  },
  {
   "cell_type": "markdown",
   "id": "9a4f9ef2-0990-47ee-b938-418f3b8b5617",
   "metadata": {},
   "source": [
    "# Part 2. Training the Models"
   ]
  },
  {
   "cell_type": "markdown",
   "id": "d1084dac-f7dc-4894-aec3-f49bbc3e9c1b",
   "metadata": {},
   "source": [
    "## 1. Label Encoding\n",
    "\n",
    "> __NOTE__: NLCD class legend is as follows (see image below)\n",
    "\n",
    "<img src=\"nlcd_landcover_legend.jpg\" alt=\"Drawing\" style=\"width: 300px;\"/>\n",
    "\n",
    "> We need to remap these values to be between 0-num_classes\n",
    "\n",
    "\n",
    "In label encoding, each label is assigned a unique integer. This is based on alphabetical ordering. For example, if you were to encode Apple, Strawberry and Orange, Apple would be assigned the value 0, Orange: 1, and Strawberry: 2\n",
    "\n",
    "you can use packaged solutions to this problem or create your own solution like below https://scikit-learn.org/stable/modules/generated/sklearn.preprocessing.LabelEncoder.html\n"
   ]
  },
  {
   "cell_type": "code",
   "execution_count": 12,
   "id": "15db97c7-8373-469a-ad4a-4063b4b7c969",
   "metadata": {
    "tags": []
   },
   "outputs": [],
   "source": [
    "label_encoding = {11: 0, 21: 1, 22: 2, 23: 3, 24: 4, 31: 5, 41: 6, 42: 7,\n",
    "                  43: 8, 52: 9, 71: 10, 81: 11, 82: 12, 90: 13, 95: 14} \n",
    "\n",
    "def remap(value: int, encoding: dict) -> int:\n",
    "    return encoding[value]\n",
    "\n",
    "# Encode labels in column 'landcover_1'\n",
    "processed['landcover_1'] = processed.apply(lambda x: remap(int(x['landcover_1']), label_encoding), axis=1)"
   ]
  },
  {
   "cell_type": "markdown",
   "id": "de3126af-236c-4c8a-9469-8f26656666c0",
   "metadata": {},
   "source": [
    "## 2b. Print the unique values in \"landcover_1\"\n",
    "After encoding, you should get these values as numbers and not categories."
   ]
  },
  {
   "cell_type": "code",
   "execution_count": 13,
   "id": "63115e92-6087-4a09-895d-0b1200da0d54",
   "metadata": {
    "tags": []
   },
   "outputs": [
    {
     "data": {
      "text/plain": [
       "array([ 7,  6, 11,  1,  4,  8,  3,  2,  0, 13, 10,  9,  5, 12, 14])"
      ]
     },
     "execution_count": 13,
     "metadata": {},
     "output_type": "execute_result"
    }
   ],
   "source": [
    "processed['landcover_1'].unique()"
   ]
  },
  {
   "cell_type": "markdown",
   "id": "9738d178-c034-409f-8bd4-b14a4c1386ac",
   "metadata": {},
   "source": [
    "# 3. Feature Selection"
   ]
  },
  {
   "cell_type": "markdown",
   "id": "0e23d6fa-3b7a-4f0d-9cbd-c7877fd7e48d",
   "metadata": {},
   "source": [
    "#### 3a. Assign the target and feature variables\n",
    "> Assign “landcover_1” as the target variable called __target__ and __features__ = ['landsat_{i}', 'dem_1', 'posidex_1', 'aspect_1_{i}', 'wetlands_1_{i}'] \n",
    "\n",
    "> __RECAP__: __Target variable__ is the dependent variable. That is, the variable whose value we want to predict.\n",
    "\n",
    "> __Feature variable__ is the independent variable ie the variables which are used to predict the value of the dependent variable\n",
    "\n",
    "\n",
    "Why can't we use impervious_1 as an input feature into the model? "
   ]
  },
  {
   "cell_type": "code",
   "execution_count": 14,
   "id": "5f0c9e74-915d-4361-87fd-4fbbd116b7a3",
   "metadata": {
    "tags": []
   },
   "outputs": [],
   "source": [
    "features = [\n",
    "    'landsat_1', 'landsat_2', 'landsat_3', 'landsat_4', 'landsat_5', 'landsat_6', 'dem_1', 'posidex_1',\n",
    "    'aspect_1_0', 'aspect_1_1', 'aspect_1_2', 'aspect_1_3', 'aspect_1_4', 'aspect_1_5',\n",
    "    'aspect_1_6', 'aspect_1_7', 'aspect_1_8', 'aspect_1_9', 'aspect_1_10', 'aspect_1_11',\n",
    "    'aspect_1_12', 'aspect_1_13', 'aspect_1_14', 'aspect_1_15', 'aspect_1_16',\n",
    "    'aspect_1_17', 'aspect_1_18', 'wetlands_1_0', 'wetlands_1_2', 'wetlands_1_3',\n",
    "    'wetlands_1_4', 'wetlands_1_5', 'wetlands_1_6', 'wetlands_1_7', 'wetlands_1_8']\n",
    "target = 'landcover_1'"
   ]
  },
  {
   "cell_type": "markdown",
   "id": "3cccad8a-fdcd-46b3-a7db-f6ae35ad51b9",
   "metadata": {},
   "source": [
    "## 4. Split data into train and test sets\n",
    "\n",
    "> __RECAP__: The model is trained on the __train set__. It is used to fit the model.\n",
    "\n",
    "> The __test set__ is used to evaluate the performance of the model."
   ]
  },
  {
   "cell_type": "code",
   "execution_count": 15,
   "id": "c3cb8a17-6ad6-4e79-9ac2-2f257e1d1b77",
   "metadata": {
    "tags": []
   },
   "outputs": [],
   "source": [
    "X = processed[features]\n",
    "y = processed[target]\n",
    "X_train, X_test, y_train, y_test = train_test_split(X, y, test_size=0.3, random_state=1)"
   ]
  },
  {
   "cell_type": "markdown",
   "id": "4546b739-6bee-4aaa-8ceb-130dfadee21a",
   "metadata": {},
   "source": [
    "#### 4a. Print dimensions of the train and test sets"
   ]
  },
  {
   "cell_type": "code",
   "execution_count": 16,
   "id": "6fa9246a-b281-4faa-8f80-22dedffbcbe0",
   "metadata": {
    "tags": []
   },
   "outputs": [
    {
     "name": "stdout",
     "output_type": "stream",
     "text": [
      "(332465, 35)\n",
      "(142485, 35)\n"
     ]
    }
   ],
   "source": [
    "print(X_train.shape)\n",
    "print(X_test.shape)"
   ]
  },
  {
   "cell_type": "markdown",
   "id": "42a7e9f0-a73e-4f6a-8824-1f122101775c",
   "metadata": {},
   "source": [
    "#### 4b. Print the relative frequencies of the unique values in \"y_train\" and \"y_test\"\n",
    "> __HINT__: You can find the code in the assignment instructions"
   ]
  },
  {
   "cell_type": "code",
   "execution_count": 17,
   "id": "db7c7003-db9c-4a9e-bfda-5d7ecaac0dec",
   "metadata": {
    "tags": []
   },
   "outputs": [
    {
     "name": "stdout",
     "output_type": "stream",
     "text": [
      "The relative frequencies in y_train are:\n",
      "landcover_1\n",
      "6     0.286764\n",
      "11    0.143793\n",
      "7     0.120268\n",
      "1     0.116800\n",
      "8     0.095312\n",
      "2     0.086018\n",
      "3     0.043439\n",
      "13    0.022842\n",
      "10    0.022402\n",
      "0     0.021301\n",
      "4     0.020285\n",
      "9     0.014949\n",
      "5     0.003014\n",
      "12    0.001714\n",
      "14    0.001098\n",
      "Name: proportion, dtype: float64\n",
      "\n",
      "The relative frequencies in y_train are:\n",
      "landcover_1\n",
      "6     0.284956\n",
      "11    0.143819\n",
      "7     0.121564\n",
      "1     0.118672\n",
      "8     0.095210\n",
      "2     0.084963\n",
      "3     0.043977\n",
      "10    0.022830\n",
      "13    0.022753\n",
      "0     0.020950\n",
      "4     0.019644\n",
      "9     0.014830\n",
      "5     0.002948\n",
      "12    0.001769\n",
      "14    0.001116\n",
      "Name: proportion, dtype: float64\n"
     ]
    }
   ],
   "source": [
    "print(f\"The relative frequencies in y_train are:\\n{y_train.value_counts(normalize=True)}\" )\n",
    "print(f\"\\nThe relative frequencies in y_train are:\\n{y_test.value_counts(normalize=True)}\")"
   ]
  },
  {
   "cell_type": "markdown",
   "id": "8be771f6-d48c-42c3-9f3a-28393f7587aa",
   "metadata": {},
   "source": [
    "# 5. Logistic Regression"
   ]
  },
  {
   "cell_type": "markdown",
   "id": "25ec036c-bbb6-48f2-b34d-3785d66d8cd3",
   "metadata": {},
   "source": [
    "#### 5a. Fit the logistic regression model\n",
    "\n",
    "> Here, we are using the One vs Rest logistic regression classifier. In this, one classifier is fitted per class. For each classifier, the class is fitted against all the other classes.\n",
    "\n",
    "> __HINT__: You can find the code in the assignment instructions"
   ]
  },
  {
   "cell_type": "code",
   "execution_count": 19,
   "id": "4370ae50-7c5a-4a3d-a0a7-e6d9503cb7c8",
   "metadata": {
    "tags": []
   },
   "outputs": [],
   "source": [
    "model = LogisticRegression(max_iter = 8000, multi_class='ovr', random_state = 1)\n",
    "model = model.fit(X_train, y_train)"
   ]
  },
  {
   "cell_type": "markdown",
   "id": "f3a9da85-c422-4aa4-84e9-e15c1253ed3b",
   "metadata": {},
   "source": [
    "#### 5b. Predict class labels for samples in the test set and assign it to \"te_pred\"\n",
    "\n",
    "> __HINT__: You can do this with model.predict. You can "
   ]
  },
  {
   "cell_type": "code",
   "execution_count": 20,
   "id": "aaef19e2-5dde-4edb-94ae-1734898f46f4",
   "metadata": {},
   "outputs": [],
   "source": [
    "te_pred = model.predict(X_test)"
   ]
  },
  {
   "cell_type": "markdown",
   "id": "a35fdb23-028a-446f-b356-4bbbc5652faf",
   "metadata": {},
   "source": [
    "#### 5c. Predict class labels for samples in the train set and assign it to \"tr_pred\""
   ]
  },
  {
   "cell_type": "code",
   "execution_count": 21,
   "id": "f94d94ea-4362-48a6-9db0-4cae6fc602fe",
   "metadata": {},
   "outputs": [],
   "source": [
    "tr_pred = model.predict(X_train)"
   ]
  },
  {
   "cell_type": "markdown",
   "id": "d085ebe4-4e14-4c95-9a5b-77d8db59c941",
   "metadata": {},
   "source": [
    "#### 5d. Print accuracy for the train and test sets"
   ]
  },
  {
   "cell_type": "code",
   "execution_count": 22,
   "id": "d8d20446-bec0-439a-bccf-a5900992a9d9",
   "metadata": {},
   "outputs": [
    {
     "data": {
      "text/plain": [
       "0.5650000000000001"
      ]
     },
     "execution_count": 22,
     "metadata": {},
     "output_type": "execute_result"
    }
   ],
   "source": [
    "accuracy_score(y_train, tr_pred).round(3)"
   ]
  },
  {
   "cell_type": "markdown",
   "id": "41e581fc-617e-411b-84d7-943041491bc4",
   "metadata": {},
   "source": [
    "#### 5e. Print a classification report for the model\n",
    "> __HINT__: You can check the assignment instructions for how to do this"
   ]
  },
  {
   "cell_type": "code",
   "execution_count": 23,
   "id": "12f6de6f-4f75-4ed5-9162-8d33689fc6e5",
   "metadata": {
    "tags": []
   },
   "outputs": [
    {
     "name": "stderr",
     "output_type": "stream",
     "text": [
      "/home/ec2-user/anaconda3/envs/python3/lib/python3.10/site-packages/sklearn/metrics/_classification.py:1344: UndefinedMetricWarning: Precision and F-score are ill-defined and being set to 0.0 in labels with no predicted samples. Use `zero_division` parameter to control this behavior.\n",
      "  _warn_prf(average, modifier, msg_start, len(result))\n",
      "/home/ec2-user/anaconda3/envs/python3/lib/python3.10/site-packages/sklearn/metrics/_classification.py:1344: UndefinedMetricWarning: Precision and F-score are ill-defined and being set to 0.0 in labels with no predicted samples. Use `zero_division` parameter to control this behavior.\n",
      "  _warn_prf(average, modifier, msg_start, len(result))\n"
     ]
    },
    {
     "name": "stdout",
     "output_type": "stream",
     "text": [
      "              precision    recall  f1-score   support\n",
      "\n",
      "           0       0.91      0.89      0.90      2985\n",
      "           1       0.33      0.18      0.23     16909\n",
      "           2       0.40      0.38      0.39     12106\n",
      "           3       0.52      0.16      0.25      6266\n",
      "           4       0.75      0.59      0.66      2799\n",
      "           5       0.00      0.00      0.00       420\n",
      "           6       0.59      0.89      0.71     40602\n",
      "           7       0.55      0.63      0.59     17321\n",
      "           8       0.28      0.01      0.03     13566\n",
      "           9       0.00      0.00      0.00      2113\n",
      "          10       0.39      0.01      0.02      3253\n",
      "          11       0.58      0.83      0.68     20492\n",
      "          12       0.00      0.00      0.00       252\n",
      "          13       0.74      0.89      0.81      3242\n",
      "          14       0.50      0.03      0.05       159\n",
      "\n",
      "    accuracy                           0.56    142485\n",
      "   macro avg       0.44      0.37      0.35    142485\n",
      "weighted avg       0.50      0.56      0.50    142485\n",
      "\n"
     ]
    },
    {
     "name": "stderr",
     "output_type": "stream",
     "text": [
      "/home/ec2-user/anaconda3/envs/python3/lib/python3.10/site-packages/sklearn/metrics/_classification.py:1344: UndefinedMetricWarning: Precision and F-score are ill-defined and being set to 0.0 in labels with no predicted samples. Use `zero_division` parameter to control this behavior.\n",
      "  _warn_prf(average, modifier, msg_start, len(result))\n"
     ]
    }
   ],
   "source": [
    "print(classification_report(y_test, te_pred))"
   ]
  },
  {
   "cell_type": "markdown",
   "id": "ad34e21f-57c0-400e-8b65-77c9d7c315fb",
   "metadata": {},
   "source": [
    "## 6. Decision Tree\n",
    "\n",
    "> A decision tree is a type of supervised machine learning used to categorize or make predictions based on the labelled data provided to it."
   ]
  },
  {
   "cell_type": "markdown",
   "id": "b50db473-eee4-4c98-a638-ba8445890f28",
   "metadata": {},
   "source": [
    "#### 6a. Fit a decision tree to the data\n",
    "\n",
    "> __HINT__: You can check the document for the instructions"
   ]
  },
  {
   "cell_type": "code",
   "execution_count": 24,
   "id": "78d4778d-69b5-4245-8317-33491a619e49",
   "metadata": {},
   "outputs": [
    {
     "data": {
      "text/html": [
       "<style>#sk-container-id-1 {color: black;background-color: white;}#sk-container-id-1 pre{padding: 0;}#sk-container-id-1 div.sk-toggleable {background-color: white;}#sk-container-id-1 label.sk-toggleable__label {cursor: pointer;display: block;width: 100%;margin-bottom: 0;padding: 0.3em;box-sizing: border-box;text-align: center;}#sk-container-id-1 label.sk-toggleable__label-arrow:before {content: \"▸\";float: left;margin-right: 0.25em;color: #696969;}#sk-container-id-1 label.sk-toggleable__label-arrow:hover:before {color: black;}#sk-container-id-1 div.sk-estimator:hover label.sk-toggleable__label-arrow:before {color: black;}#sk-container-id-1 div.sk-toggleable__content {max-height: 0;max-width: 0;overflow: hidden;text-align: left;background-color: #f0f8ff;}#sk-container-id-1 div.sk-toggleable__content pre {margin: 0.2em;color: black;border-radius: 0.25em;background-color: #f0f8ff;}#sk-container-id-1 input.sk-toggleable__control:checked~div.sk-toggleable__content {max-height: 200px;max-width: 100%;overflow: auto;}#sk-container-id-1 input.sk-toggleable__control:checked~label.sk-toggleable__label-arrow:before {content: \"▾\";}#sk-container-id-1 div.sk-estimator input.sk-toggleable__control:checked~label.sk-toggleable__label {background-color: #d4ebff;}#sk-container-id-1 div.sk-label input.sk-toggleable__control:checked~label.sk-toggleable__label {background-color: #d4ebff;}#sk-container-id-1 input.sk-hidden--visually {border: 0;clip: rect(1px 1px 1px 1px);clip: rect(1px, 1px, 1px, 1px);height: 1px;margin: -1px;overflow: hidden;padding: 0;position: absolute;width: 1px;}#sk-container-id-1 div.sk-estimator {font-family: monospace;background-color: #f0f8ff;border: 1px dotted black;border-radius: 0.25em;box-sizing: border-box;margin-bottom: 0.5em;}#sk-container-id-1 div.sk-estimator:hover {background-color: #d4ebff;}#sk-container-id-1 div.sk-parallel-item::after {content: \"\";width: 100%;border-bottom: 1px solid gray;flex-grow: 1;}#sk-container-id-1 div.sk-label:hover label.sk-toggleable__label {background-color: #d4ebff;}#sk-container-id-1 div.sk-serial::before {content: \"\";position: absolute;border-left: 1px solid gray;box-sizing: border-box;top: 0;bottom: 0;left: 50%;z-index: 0;}#sk-container-id-1 div.sk-serial {display: flex;flex-direction: column;align-items: center;background-color: white;padding-right: 0.2em;padding-left: 0.2em;position: relative;}#sk-container-id-1 div.sk-item {position: relative;z-index: 1;}#sk-container-id-1 div.sk-parallel {display: flex;align-items: stretch;justify-content: center;background-color: white;position: relative;}#sk-container-id-1 div.sk-item::before, #sk-container-id-1 div.sk-parallel-item::before {content: \"\";position: absolute;border-left: 1px solid gray;box-sizing: border-box;top: 0;bottom: 0;left: 50%;z-index: -1;}#sk-container-id-1 div.sk-parallel-item {display: flex;flex-direction: column;z-index: 1;position: relative;background-color: white;}#sk-container-id-1 div.sk-parallel-item:first-child::after {align-self: flex-end;width: 50%;}#sk-container-id-1 div.sk-parallel-item:last-child::after {align-self: flex-start;width: 50%;}#sk-container-id-1 div.sk-parallel-item:only-child::after {width: 0;}#sk-container-id-1 div.sk-dashed-wrapped {border: 1px dashed gray;margin: 0 0.4em 0.5em 0.4em;box-sizing: border-box;padding-bottom: 0.4em;background-color: white;}#sk-container-id-1 div.sk-label label {font-family: monospace;font-weight: bold;display: inline-block;line-height: 1.2em;}#sk-container-id-1 div.sk-label-container {text-align: center;}#sk-container-id-1 div.sk-container {/* jupyter's `normalize.less` sets `[hidden] { display: none; }` but bootstrap.min.css set `[hidden] { display: none !important; }` so we also need the `!important` here to be able to override the default hidden behavior on the sphinx rendered scikit-learn.org. See: https://github.com/scikit-learn/scikit-learn/issues/21755 */display: inline-block !important;position: relative;}#sk-container-id-1 div.sk-text-repr-fallback {display: none;}</style><div id=\"sk-container-id-1\" class=\"sk-top-container\"><div class=\"sk-text-repr-fallback\"><pre>DecisionTreeClassifier(max_depth=11, random_state=1)</pre><b>In a Jupyter environment, please rerun this cell to show the HTML representation or trust the notebook. <br />On GitHub, the HTML representation is unable to render, please try loading this page with nbviewer.org.</b></div><div class=\"sk-container\" hidden><div class=\"sk-item\"><div class=\"sk-estimator sk-toggleable\"><input class=\"sk-toggleable__control sk-hidden--visually\" id=\"sk-estimator-id-1\" type=\"checkbox\" checked><label for=\"sk-estimator-id-1\" class=\"sk-toggleable__label sk-toggleable__label-arrow\">DecisionTreeClassifier</label><div class=\"sk-toggleable__content\"><pre>DecisionTreeClassifier(max_depth=11, random_state=1)</pre></div></div></div></div></div>"
      ],
      "text/plain": [
       "DecisionTreeClassifier(max_depth=11, random_state=1)"
      ]
     },
     "execution_count": 24,
     "metadata": {},
     "output_type": "execute_result"
    }
   ],
   "source": [
    "dt = DecisionTreeClassifier(max_depth=11, random_state = 1)\n",
    "dt.fit(X_train, y_train)"
   ]
  },
  {
   "cell_type": "markdown",
   "id": "32b6f618-b74f-4b69-ae6f-4b87ef9b2cf7",
   "metadata": {},
   "source": [
    "#### 6b. Predict class labels for samples in the test set and assign it to \"te_pred_dt\""
   ]
  },
  {
   "cell_type": "code",
   "execution_count": 25,
   "id": "f1955878-12e9-43e2-8a63-a54aaec7a1dd",
   "metadata": {},
   "outputs": [],
   "source": [
    "te_pred_dt = dt.predict(X_test)"
   ]
  },
  {
   "cell_type": "markdown",
   "id": "98f31323-df73-4495-98a4-2a14063e450a",
   "metadata": {},
   "source": [
    "#### 6c. Predict class labels for samples in the train set and assign it to \"tr_pred_dt\""
   ]
  },
  {
   "cell_type": "code",
   "execution_count": 26,
   "id": "a130061d-9055-4d46-b9f3-4f95a7900728",
   "metadata": {
    "tags": []
   },
   "outputs": [],
   "source": [
    "tr_pred_dt = dt.predict(X_train)"
   ]
  },
  {
   "cell_type": "markdown",
   "id": "408ebdeb-08da-4639-ba7d-afad5f39fbdb",
   "metadata": {},
   "source": [
    "#### 6d. Print the accuracy of the decision tree for the training and testing sets"
   ]
  },
  {
   "cell_type": "code",
   "execution_count": 27,
   "id": "48834dad-d5cb-40d1-a3c3-34f48a57ee9f",
   "metadata": {},
   "outputs": [
    {
     "name": "stdout",
     "output_type": "stream",
     "text": [
      "accuracy for training set= 0.629\n",
      "accuracy for testing set= 0.606\n"
     ]
    }
   ],
   "source": [
    "print('accuracy for training set=', accuracy_score(y_train, tr_pred_dt).round(3))\n",
    "print('accuracy for testing set=', accuracy_score(y_test, te_pred_dt).round(3))"
   ]
  },
  {
   "cell_type": "markdown",
   "id": "e9e2c3b6-0d2c-4002-899e-4f7f2b35d42f",
   "metadata": {},
   "source": [
    "#### 6e. Print a classification report for the model"
   ]
  },
  {
   "cell_type": "code",
   "execution_count": 28,
   "id": "ee706812-5d2e-48d9-9097-10c79283f5a3",
   "metadata": {
    "tags": []
   },
   "outputs": [
    {
     "name": "stderr",
     "output_type": "stream",
     "text": [
      "/home/ec2-user/anaconda3/envs/python3/lib/python3.10/site-packages/sklearn/metrics/_classification.py:1344: UndefinedMetricWarning: Precision and F-score are ill-defined and being set to 0.0 in labels with no predicted samples. Use `zero_division` parameter to control this behavior.\n",
      "  _warn_prf(average, modifier, msg_start, len(result))\n",
      "/home/ec2-user/anaconda3/envs/python3/lib/python3.10/site-packages/sklearn/metrics/_classification.py:1344: UndefinedMetricWarning: Precision and F-score are ill-defined and being set to 0.0 in labels with no predicted samples. Use `zero_division` parameter to control this behavior.\n",
      "  _warn_prf(average, modifier, msg_start, len(result))\n"
     ]
    },
    {
     "name": "stdout",
     "output_type": "stream",
     "text": [
      "              precision    recall  f1-score   support\n",
      "\n",
      "           0       0.89      0.93      0.91      2985\n",
      "           1       0.36      0.28      0.32     16909\n",
      "           2       0.48      0.55      0.51     12106\n",
      "           3       0.55      0.51      0.53      6266\n",
      "           4       0.71      0.69      0.70      2799\n",
      "           5       0.23      0.02      0.04       420\n",
      "           6       0.67      0.82      0.74     40602\n",
      "           7       0.66      0.67      0.66     17321\n",
      "           8       0.43      0.18      0.26     13566\n",
      "           9       0.29      0.04      0.07      2113\n",
      "          10       0.39      0.09      0.15      3253\n",
      "          11       0.63      0.81      0.70     20492\n",
      "          12       0.00      0.00      0.00       252\n",
      "          13       0.80      0.82      0.81      3242\n",
      "          14       0.09      0.03      0.04       159\n",
      "\n",
      "    accuracy                           0.61    142485\n",
      "   macro avg       0.48      0.43      0.43    142485\n",
      "weighted avg       0.58      0.61      0.58    142485\n",
      "\n"
     ]
    },
    {
     "name": "stderr",
     "output_type": "stream",
     "text": [
      "/home/ec2-user/anaconda3/envs/python3/lib/python3.10/site-packages/sklearn/metrics/_classification.py:1344: UndefinedMetricWarning: Precision and F-score are ill-defined and being set to 0.0 in labels with no predicted samples. Use `zero_division` parameter to control this behavior.\n",
      "  _warn_prf(average, modifier, msg_start, len(result))\n"
     ]
    }
   ],
   "source": [
    "print(classification_report(y_test, te_pred_dt))"
   ]
  },
  {
   "cell_type": "code",
   "execution_count": null,
   "id": "501fe305-f2bc-4891-aa73-66532cd3be10",
   "metadata": {
    "tags": []
   },
   "outputs": [],
   "source": []
  }
 ],
 "metadata": {
  "kernelspec": {
   "display_name": "conda_python3",
   "language": "python",
   "name": "conda_python3"
  },
  "language_info": {
   "codemirror_mode": {
    "name": "ipython",
    "version": 3
   },
   "file_extension": ".py",
   "mimetype": "text/x-python",
   "name": "python",
   "nbconvert_exporter": "python",
   "pygments_lexer": "ipython3",
   "version": "3.10.10"
  }
 },
 "nbformat": 4,
 "nbformat_minor": 5
}
