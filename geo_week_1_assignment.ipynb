{
 "cells": [
  {
   "cell_type": "markdown",
   "id": "c78f750f-c734-4049-8bb5-53a89d2c868c",
   "metadata": {},
   "source": [
    "# Week 1 Assignment\n",
    "\n",
    "In this assignment you will be exposed to some fundamental geospatial data wrangling techniques, learn how to load basic Python libraries, import and read your csv dataset, and perform some basic operations.\n",
    "\n",
    "__DATA__: you will be working with raw data in the form of raster data as well as structured data in the form of csv files that are derived from the raw raster data. We will be building machine learning models to solve three problems, impervious fractional cover estimation, impervious surface classfication, and landcover classification. \n",
    "\n",
    "__Raster Files__: \n",
    "\n",
    "    - Landsat.tif (remotely sensed data in the form of surface reflactance, will be used as the input to our models) [values (0 - 10000)]\n",
    "    - Landcover.tif (NLCD landcover map, will be used as our \"ground truth\" in training some of our models)     \n",
    "        \"landcover-legend\": {\n",
    "            'water': 11, 'snow': 12, 'developed-open': 21, 'developed-low': 22, 'developed-med': 23, 'developed-high': 24, 'barren': 31, 'dforest': 41, 'eforest': 42,\n",
    "            'mforest': 43, 'shrub': 52, 'grassland': 71, 'hay': 81, 'crops': 82, 'wwetlands': 90,'ewetlands': 95\n",
    "        }\n",
    "    - Impervious.tif (NLCD fractional impervious map, will be used as our \"ground truth\" in training some of our modes) [values (0 - 100)]\n",
    "    - Dem.tif (ancillary data in the form of elevation data) [values (0 - 10000)]\n",
    "    - Aspect.tif (ancillary data in the form of downslope direction) [values (0 - 8)]\n",
    "    - Posidex.tif (ancially date in the form of positional index) [values (0 - 100)]\n",
    "    - Wetlands.tif (ancillary data in the form of wetlands information) [values (0 - 17)]\n",
    "\n",
    "Modern machine learning has offered advancements in the automated analysis of data and we plan to employ some of those techniques here.\n",
    "\n"
   ]
  },
  {
   "cell_type": "markdown",
   "id": "58f7dcb0-524e-4f76-b0e5-f299ce088929",
   "metadata": {
    "tags": []
   },
   "source": [
    "## 1. Import the required libraries:\n",
    "> Numpy and Pandas are some of the most commonly used libraries for data analysis.\n",
    "Numpy is a python package which is used for scientific computing. It provides support for large multi-dimensional arrays and matrices. Pandas is python library used for data manipulation and analysis.\n",
    "\n",
    "> __HINT__: Check how to do this in the instructions file"
   ]
  },
  {
   "cell_type": "code",
   "execution_count": 2,
   "id": "59171253-412b-4db1-8055-f14b981dd0c9",
   "metadata": {
    "tags": []
   },
   "outputs": [
    {
     "name": "stdout",
     "output_type": "stream",
     "text": [
      "Looking in indexes: https://pypi.org/simple, https://pip.repos.neuron.amazonaws.com\n",
      "Collecting rasterio\n",
      "  Downloading rasterio-1.3.8-cp310-cp310-manylinux_2_17_x86_64.manylinux2014_x86_64.whl (21.3 MB)\n",
      "\u001b[2K     \u001b[90m━━━━━━━━━━━━━━━━━━━━━━━━━━━━━━━━━━━━━━━━\u001b[0m \u001b[32m21.3/21.3 MB\u001b[0m \u001b[31m56.8 MB/s\u001b[0m eta \u001b[36m0:00:00\u001b[0m00:01\u001b[0m00:01\u001b[0m\n",
      "\u001b[?25hCollecting affine (from rasterio)\n",
      "  Downloading affine-2.4.0-py3-none-any.whl (15 kB)\n",
      "Requirement already satisfied: attrs in /home/ec2-user/anaconda3/envs/python3/lib/python3.10/site-packages (from rasterio) (22.2.0)\n",
      "Requirement already satisfied: certifi in /home/ec2-user/anaconda3/envs/python3/lib/python3.10/site-packages (from rasterio) (2023.5.7)\n",
      "Requirement already satisfied: click>=4.0 in /home/ec2-user/anaconda3/envs/python3/lib/python3.10/site-packages (from rasterio) (8.1.3)\n",
      "Collecting cligj>=0.5 (from rasterio)\n",
      "  Downloading cligj-0.7.2-py3-none-any.whl (7.1 kB)\n",
      "Requirement already satisfied: numpy>=1.18 in /home/ec2-user/anaconda3/envs/python3/lib/python3.10/site-packages (from rasterio) (1.22.3)\n",
      "Collecting snuggs>=1.4.1 (from rasterio)\n",
      "  Downloading snuggs-1.4.7-py3-none-any.whl (5.4 kB)\n",
      "Collecting click-plugins (from rasterio)\n",
      "  Downloading click_plugins-1.1.1-py2.py3-none-any.whl (7.5 kB)\n",
      "Requirement already satisfied: setuptools in /home/ec2-user/anaconda3/envs/python3/lib/python3.10/site-packages (from rasterio) (67.7.2)\n",
      "Requirement already satisfied: pyparsing>=2.1.6 in /home/ec2-user/anaconda3/envs/python3/lib/python3.10/site-packages (from snuggs>=1.4.1->rasterio) (3.0.9)\n",
      "Installing collected packages: snuggs, cligj, click-plugins, affine, rasterio\n",
      "Successfully installed affine-2.4.0 click-plugins-1.1.1 cligj-0.7.2 rasterio-1.3.8 snuggs-1.4.7\n",
      "Note: you may need to restart the kernel to use updated packages.\n"
     ]
    }
   ],
   "source": [
    "pip install rasterio"
   ]
  },
  {
   "cell_type": "code",
   "execution_count": 4,
   "id": "f8542c23",
   "metadata": {},
   "outputs": [
    {
     "name": "stdout",
     "output_type": "stream",
     "text": [
      "Looking in indexes: https://pypi.org/simple, https://pip.repos.neuron.amazonaws.com\n",
      "Collecting geopandas\n",
      "  Downloading geopandas-0.13.2-py3-none-any.whl (1.1 MB)\n",
      "\u001b[2K     \u001b[90m━━━━━━━━━━━━━━━━━━━━━━━━━━━━━━━━━━━━━━━━\u001b[0m \u001b[32m1.1/1.1 MB\u001b[0m \u001b[31m20.1 MB/s\u001b[0m eta \u001b[36m0:00:00\u001b[0ma \u001b[36m0:00:01\u001b[0m\n",
      "\u001b[?25hCollecting fiona>=1.8.19 (from geopandas)\n",
      "  Downloading Fiona-1.9.4.post1-cp310-cp310-manylinux_2_17_x86_64.manylinux2014_x86_64.whl (16.4 MB)\n",
      "\u001b[2K     \u001b[90m━━━━━━━━━━━━━━━━━━━━━━━━━━━━━━━━━━━━━━━━\u001b[0m \u001b[32m16.4/16.4 MB\u001b[0m \u001b[31m71.2 MB/s\u001b[0m eta \u001b[36m0:00:00\u001b[0m00:01\u001b[0m00:01\u001b[0m\n",
      "\u001b[?25hRequirement already satisfied: packaging in /home/ec2-user/anaconda3/envs/python3/lib/python3.10/site-packages (from geopandas) (21.3)\n",
      "Requirement already satisfied: pandas>=1.1.0 in /home/ec2-user/anaconda3/envs/python3/lib/python3.10/site-packages (from geopandas) (2.0.1)\n",
      "Collecting pyproj>=3.0.1 (from geopandas)\n",
      "  Downloading pyproj-3.6.0-cp310-cp310-manylinux_2_17_x86_64.manylinux2014_x86_64.whl (7.9 MB)\n",
      "\u001b[2K     \u001b[90m━━━━━━━━━━━━━━━━━━━━━━━━━━━━━━━━━━━━━━━━\u001b[0m \u001b[32m7.9/7.9 MB\u001b[0m \u001b[31m56.8 MB/s\u001b[0m eta \u001b[36m0:00:00\u001b[0m00:01\u001b[0m00:01\u001b[0m\n",
      "\u001b[?25hCollecting shapely>=1.7.1 (from geopandas)\n",
      "  Downloading shapely-2.0.1-cp310-cp310-manylinux_2_17_x86_64.manylinux2014_x86_64.whl (2.3 MB)\n",
      "\u001b[2K     \u001b[90m━━━━━━━━━━━━━━━━━━━━━━━━━━━━━━━━━━━━━━━━\u001b[0m \u001b[32m2.3/2.3 MB\u001b[0m \u001b[31m122.1 MB/s\u001b[0m eta \u001b[36m0:00:00\u001b[0m\n",
      "\u001b[?25hRequirement already satisfied: attrs>=19.2.0 in /home/ec2-user/anaconda3/envs/python3/lib/python3.10/site-packages (from fiona>=1.8.19->geopandas) (22.2.0)\n",
      "Requirement already satisfied: certifi in /home/ec2-user/anaconda3/envs/python3/lib/python3.10/site-packages (from fiona>=1.8.19->geopandas) (2023.5.7)\n",
      "Requirement already satisfied: click~=8.0 in /home/ec2-user/anaconda3/envs/python3/lib/python3.10/site-packages (from fiona>=1.8.19->geopandas) (8.1.3)\n",
      "Requirement already satisfied: click-plugins>=1.0 in /home/ec2-user/anaconda3/envs/python3/lib/python3.10/site-packages (from fiona>=1.8.19->geopandas) (1.1.1)\n",
      "Requirement already satisfied: cligj>=0.5 in /home/ec2-user/anaconda3/envs/python3/lib/python3.10/site-packages (from fiona>=1.8.19->geopandas) (0.7.2)\n",
      "Requirement already satisfied: six in /home/ec2-user/anaconda3/envs/python3/lib/python3.10/site-packages (from fiona>=1.8.19->geopandas) (1.16.0)\n",
      "Requirement already satisfied: python-dateutil>=2.8.2 in /home/ec2-user/anaconda3/envs/python3/lib/python3.10/site-packages (from pandas>=1.1.0->geopandas) (2.8.2)\n",
      "Requirement already satisfied: pytz>=2020.1 in /home/ec2-user/anaconda3/envs/python3/lib/python3.10/site-packages (from pandas>=1.1.0->geopandas) (2023.3)\n",
      "Requirement already satisfied: tzdata>=2022.1 in /home/ec2-user/anaconda3/envs/python3/lib/python3.10/site-packages (from pandas>=1.1.0->geopandas) (2023.3)\n",
      "Requirement already satisfied: numpy>=1.21.0 in /home/ec2-user/anaconda3/envs/python3/lib/python3.10/site-packages (from pandas>=1.1.0->geopandas) (1.22.3)\n",
      "Requirement already satisfied: pyparsing!=3.0.5,>=2.0.2 in /home/ec2-user/anaconda3/envs/python3/lib/python3.10/site-packages (from packaging->geopandas) (3.0.9)\n",
      "Installing collected packages: shapely, pyproj, fiona, geopandas\n",
      "Successfully installed fiona-1.9.4.post1 geopandas-0.13.2 pyproj-3.6.0 shapely-2.0.1\n",
      "Note: you may need to restart the kernel to use updated packages.\n"
     ]
    }
   ],
   "source": [
    "pip install geopandas"
   ]
  },
  {
   "cell_type": "code",
   "execution_count": 5,
   "id": "1bac4462",
   "metadata": {},
   "outputs": [],
   "source": [
    "import os\n",
    "import random\n",
    "import numpy as np\n",
    "import pandas as pd\n",
    "import rasterio as rio\n",
    "import geopandas as gpd"
   ]
  },
  {
   "cell_type": "markdown",
   "id": "4c1bebfc-953c-4ac8-9686-df2ab8a0d61b",
   "metadata": {},
   "source": [
    "## 2. Read the raster files\n",
    "\n",
    "> __HINT__: You can find out how to do this in the instructions file"
   ]
  },
  {
   "cell_type": "code",
   "execution_count": 9,
   "id": "eac76473",
   "metadata": {},
   "outputs": [],
   "source": [
    "paths = [\n",
    "    's3://geokarma-testing/geoKARMA_h24v13_landcover_2019.tif',\n",
    "    's3://geokarma-testing/geoKARMA_h24v13_landcover_2019.tif',\n",
    "    's3://geokarma-testing/geoKARMA_h24v13_dem_2019.tif',\n",
    "    's3://geokarma-testing/geoKARMA_h24v13_aspect_2019.tif',\n",
    "    's3://geokarma-testing/geoKARMA_h24v13_posidex_2019.tif',\n",
    "    's3://geokarma-testing/geoKARMA_h24v13_wetlands_2019.tif'\n",
    "]\n",
    "\n",
    "for path in paths:\n",
    "    rio.open(path)\n",
    "    "
   ]
  },
  {
   "cell_type": "markdown",
   "id": "de80ea4f-ddbb-4e7a-a479-bc5fe11c41ea",
   "metadata": {},
   "source": [
    "## 3 - 8. Print the metadata and bounds for each raster file\n",
    "> It is a good idea to examine the metadata and all the information tied to the raster data"
   ]
  },
  {
   "cell_type": "code",
   "execution_count": 11,
   "id": "37a85fa3-8932-470e-918c-deeb0dfb2eaa",
   "metadata": {
    "tags": []
   },
   "outputs": [
    {
     "name": "stdout",
     "output_type": "stream",
     "text": [
      "{'driver': 'GTiff', 'dtype': 'uint8', 'nodata': 255.0, 'width': 5000, 'height': 5000, 'count': 1, 'crs': CRS.from_wkt('PROJCS[\"Albers_Conical_Equal_Area\",GEOGCS[\"WGS 84\",DATUM[\"WGS_1984\",SPHEROID[\"WGS 84\",6378137,298.257223563,AUTHORITY[\"EPSG\",\"7030\"]],AUTHORITY[\"EPSG\",\"6326\"]],PRIMEM[\"Greenwich\",0],UNIT[\"degree\",0.0174532925199433,AUTHORITY[\"EPSG\",\"9122\"]],AUTHORITY[\"EPSG\",\"4326\"]],PROJECTION[\"Albers_Conic_Equal_Area\"],PARAMETER[\"latitude_of_center\",23],PARAMETER[\"longitude_of_center\",-96],PARAMETER[\"standard_parallel_1\",29.5],PARAMETER[\"standard_parallel_2\",45.5],PARAMETER[\"false_easting\",0],PARAMETER[\"false_northing\",0],UNIT[\"metre\",1,AUTHORITY[\"EPSG\",\"9001\"]],AXIS[\"Easting\",EAST],AXIS[\"Northing\",NORTH]]'), 'transform': Affine(30.0, 0.0, 1034415.0000701696,\n",
      "       0.0, -30.0, 1364804.9997692876)}\n",
      "{'driver': 'GTiff', 'dtype': 'uint8', 'nodata': 255.0, 'width': 5000, 'height': 5000, 'count': 1, 'crs': CRS.from_wkt('PROJCS[\"Albers_Conical_Equal_Area\",GEOGCS[\"WGS 84\",DATUM[\"WGS_1984\",SPHEROID[\"WGS 84\",6378137,298.257223563,AUTHORITY[\"EPSG\",\"7030\"]],AUTHORITY[\"EPSG\",\"6326\"]],PRIMEM[\"Greenwich\",0],UNIT[\"degree\",0.0174532925199433,AUTHORITY[\"EPSG\",\"9122\"]],AUTHORITY[\"EPSG\",\"4326\"]],PROJECTION[\"Albers_Conic_Equal_Area\"],PARAMETER[\"latitude_of_center\",23],PARAMETER[\"longitude_of_center\",-96],PARAMETER[\"standard_parallel_1\",29.5],PARAMETER[\"standard_parallel_2\",45.5],PARAMETER[\"false_easting\",0],PARAMETER[\"false_northing\",0],UNIT[\"metre\",1,AUTHORITY[\"EPSG\",\"9001\"]],AXIS[\"Easting\",EAST],AXIS[\"Northing\",NORTH]]'), 'transform': Affine(30.0, 0.0, 1034415.0000701696,\n",
      "       0.0, -30.0, 1364804.9997692876)}\n",
      "{'driver': 'GTiff', 'dtype': 'int16', 'nodata': -9999.0, 'width': 5000, 'height': 5000, 'count': 1, 'crs': CRS.from_wkt('PROJCS[\"Albers_Conical_Equal_Area\",GEOGCS[\"WGS 84\",DATUM[\"WGS_1984\",SPHEROID[\"WGS 84\",6378137,298.257223563,AUTHORITY[\"EPSG\",\"7030\"]],AUTHORITY[\"EPSG\",\"6326\"]],PRIMEM[\"Greenwich\",0],UNIT[\"degree\",0.0174532925199433,AUTHORITY[\"EPSG\",\"9122\"]],AUTHORITY[\"EPSG\",\"4326\"]],PROJECTION[\"Albers_Conic_Equal_Area\"],PARAMETER[\"latitude_of_center\",23],PARAMETER[\"longitude_of_center\",-96],PARAMETER[\"standard_parallel_1\",29.5],PARAMETER[\"standard_parallel_2\",45.5],PARAMETER[\"false_easting\",0],PARAMETER[\"false_northing\",0],UNIT[\"metre\",1,AUTHORITY[\"EPSG\",\"9001\"]],AXIS[\"Easting\",EAST],AXIS[\"Northing\",NORTH]]'), 'transform': Affine(30.0, 0.0, 1034415.0000701696,\n",
      "       0.0, -30.0, 1364804.9997692876)}\n",
      "{'driver': 'GTiff', 'dtype': 'int16', 'nodata': 255.0, 'width': 5000, 'height': 5000, 'count': 1, 'crs': CRS.from_epsg(5070), 'transform': Affine(30.0, 0.0, 1034415.0000701696,\n",
      "       0.0, -30.0, 1364804.9997692876)}\n",
      "{'driver': 'GTiff', 'dtype': 'uint8', 'nodata': 255.0, 'width': 5000, 'height': 5000, 'count': 1, 'crs': CRS.from_epsg(5070), 'transform': Affine(30.0, 0.0, 1034415.0000701696,\n",
      "       0.0, -30.0, 1364804.9997692876)}\n",
      "{'driver': 'GTiff', 'dtype': 'uint8', 'nodata': 255.0, 'width': 5000, 'height': 5000, 'count': 1, 'crs': CRS.from_epsg(5070), 'transform': Affine(30.0, 0.0, 1034415.0000701696,\n",
      "       0.0, -30.0, 1364804.9997692876)}\n"
     ]
    }
   ],
   "source": [
    "for path in paths:\n",
    "    print(rio.open(path).meta)"
   ]
  },
  {
   "cell_type": "markdown",
   "id": "0d06c497-a2d4-4d82-993b-42b7404a5225",
   "metadata": {},
   "source": [
    "## 9. Read the csv dataset\n",
    "\n",
    "> __HINT__: You can find out how to do this in the instructions file"
   ]
  },
  {
   "cell_type": "code",
   "execution_count": 13,
   "id": "445d4241",
   "metadata": {},
   "outputs": [],
   "source": [
    "csv = pd.read_csv('s3://geokarma-testing/geoKARMA_h24v13_pixelbased_dataset.csv')"
   ]
  },
  {
   "cell_type": "markdown",
   "id": "999b20aa-ecf2-4c2d-ae67-52499e1bcd64",
   "metadata": {},
   "source": [
    "## 10. Print the first 5 observations of the dataset\n",
    "> It is a good idea to examine the first and last observations to get an idea of the dataset"
   ]
  },
  {
   "cell_type": "code",
   "execution_count": 14,
   "id": "375eedc9",
   "metadata": {},
   "outputs": [
    {
     "data": {
      "text/html": [
       "<div>\n",
       "<style scoped>\n",
       "    .dataframe tbody tr th:only-of-type {\n",
       "        vertical-align: middle;\n",
       "    }\n",
       "\n",
       "    .dataframe tbody tr th {\n",
       "        vertical-align: top;\n",
       "    }\n",
       "\n",
       "    .dataframe thead th {\n",
       "        text-align: right;\n",
       "    }\n",
       "</style>\n",
       "<table border=\"1\" class=\"dataframe\">\n",
       "  <thead>\n",
       "    <tr style=\"text-align: right;\">\n",
       "      <th></th>\n",
       "      <th>landsat_1</th>\n",
       "      <th>landsat_2</th>\n",
       "      <th>landsat_3</th>\n",
       "      <th>landsat_4</th>\n",
       "      <th>landsat_5</th>\n",
       "      <th>landsat_6</th>\n",
       "      <th>dem_1</th>\n",
       "      <th>aspect_1</th>\n",
       "      <th>posidex_1</th>\n",
       "      <th>wetlands_1</th>\n",
       "      <th>landcover_1</th>\n",
       "      <th>impervious_1</th>\n",
       "      <th>urban_count_7</th>\n",
       "      <th>urban_count_5</th>\n",
       "      <th>urban_count_3</th>\n",
       "      <th>xgeo</th>\n",
       "      <th>ygeo</th>\n",
       "    </tr>\n",
       "  </thead>\n",
       "  <tbody>\n",
       "    <tr>\n",
       "      <th>0</th>\n",
       "      <td>164</td>\n",
       "      <td>373</td>\n",
       "      <td>233</td>\n",
       "      <td>2592</td>\n",
       "      <td>1096</td>\n",
       "      <td>429</td>\n",
       "      <td>254</td>\n",
       "      <td>2</td>\n",
       "      <td>47</td>\n",
       "      <td>0</td>\n",
       "      <td>42</td>\n",
       "      <td>0</td>\n",
       "      <td>14</td>\n",
       "      <td>2</td>\n",
       "      <td>0</td>\n",
       "      <td>1.051155e+06</td>\n",
       "      <td>1.247055e+06</td>\n",
       "    </tr>\n",
       "    <tr>\n",
       "      <th>1</th>\n",
       "      <td>271</td>\n",
       "      <td>418</td>\n",
       "      <td>292</td>\n",
       "      <td>2782</td>\n",
       "      <td>1439</td>\n",
       "      <td>635</td>\n",
       "      <td>257</td>\n",
       "      <td>15</td>\n",
       "      <td>28</td>\n",
       "      <td>0</td>\n",
       "      <td>41</td>\n",
       "      <td>0</td>\n",
       "      <td>17</td>\n",
       "      <td>10</td>\n",
       "      <td>4</td>\n",
       "      <td>1.056225e+06</td>\n",
       "      <td>1.241565e+06</td>\n",
       "    </tr>\n",
       "    <tr>\n",
       "      <th>2</th>\n",
       "      <td>454</td>\n",
       "      <td>832</td>\n",
       "      <td>850</td>\n",
       "      <td>3860</td>\n",
       "      <td>2671</td>\n",
       "      <td>1476</td>\n",
       "      <td>277</td>\n",
       "      <td>1</td>\n",
       "      <td>45</td>\n",
       "      <td>-1</td>\n",
       "      <td>81</td>\n",
       "      <td>0</td>\n",
       "      <td>0</td>\n",
       "      <td>0</td>\n",
       "      <td>0</td>\n",
       "      <td>1.128015e+06</td>\n",
       "      <td>1.313925e+06</td>\n",
       "    </tr>\n",
       "    <tr>\n",
       "      <th>3</th>\n",
       "      <td>187</td>\n",
       "      <td>345</td>\n",
       "      <td>198</td>\n",
       "      <td>2469</td>\n",
       "      <td>1117</td>\n",
       "      <td>441</td>\n",
       "      <td>242</td>\n",
       "      <td>8</td>\n",
       "      <td>27</td>\n",
       "      <td>-1</td>\n",
       "      <td>42</td>\n",
       "      <td>0</td>\n",
       "      <td>0</td>\n",
       "      <td>0</td>\n",
       "      <td>0</td>\n",
       "      <td>1.124175e+06</td>\n",
       "      <td>1.282395e+06</td>\n",
       "    </tr>\n",
       "    <tr>\n",
       "      <th>4</th>\n",
       "      <td>481</td>\n",
       "      <td>715</td>\n",
       "      <td>731</td>\n",
       "      <td>3519</td>\n",
       "      <td>2286</td>\n",
       "      <td>1386</td>\n",
       "      <td>239</td>\n",
       "      <td>1</td>\n",
       "      <td>91</td>\n",
       "      <td>0</td>\n",
       "      <td>21</td>\n",
       "      <td>13</td>\n",
       "      <td>16</td>\n",
       "      <td>11</td>\n",
       "      <td>5</td>\n",
       "      <td>1.156905e+06</td>\n",
       "      <td>1.320645e+06</td>\n",
       "    </tr>\n",
       "  </tbody>\n",
       "</table>\n",
       "</div>"
      ],
      "text/plain": [
       "   landsat_1  landsat_2  landsat_3  landsat_4  landsat_5  landsat_6  dem_1   \n",
       "0        164        373        233       2592       1096        429    254  \\\n",
       "1        271        418        292       2782       1439        635    257   \n",
       "2        454        832        850       3860       2671       1476    277   \n",
       "3        187        345        198       2469       1117        441    242   \n",
       "4        481        715        731       3519       2286       1386    239   \n",
       "\n",
       "   aspect_1  posidex_1  wetlands_1  landcover_1  impervious_1  urban_count_7   \n",
       "0         2         47           0           42             0             14  \\\n",
       "1        15         28           0           41             0             17   \n",
       "2         1         45          -1           81             0              0   \n",
       "3         8         27          -1           42             0              0   \n",
       "4         1         91           0           21            13             16   \n",
       "\n",
       "   urban_count_5  urban_count_3          xgeo          ygeo  \n",
       "0              2              0  1.051155e+06  1.247055e+06  \n",
       "1             10              4  1.056225e+06  1.241565e+06  \n",
       "2              0              0  1.128015e+06  1.313925e+06  \n",
       "3              0              0  1.124175e+06  1.282395e+06  \n",
       "4             11              5  1.156905e+06  1.320645e+06  "
      ]
     },
     "execution_count": 14,
     "metadata": {},
     "output_type": "execute_result"
    }
   ],
   "source": [
    "csv.head()"
   ]
  },
  {
   "cell_type": "markdown",
   "id": "ff154764-8d81-43ce-a957-a8961fcd5dd3",
   "metadata": {},
   "source": [
    "## 11. Print the last 5 observations of the dataset"
   ]
  },
  {
   "cell_type": "code",
   "execution_count": 15,
   "id": "b966df62",
   "metadata": {},
   "outputs": [
    {
     "data": {
      "text/html": [
       "<div>\n",
       "<style scoped>\n",
       "    .dataframe tbody tr th:only-of-type {\n",
       "        vertical-align: middle;\n",
       "    }\n",
       "\n",
       "    .dataframe tbody tr th {\n",
       "        vertical-align: top;\n",
       "    }\n",
       "\n",
       "    .dataframe thead th {\n",
       "        text-align: right;\n",
       "    }\n",
       "</style>\n",
       "<table border=\"1\" class=\"dataframe\">\n",
       "  <thead>\n",
       "    <tr style=\"text-align: right;\">\n",
       "      <th></th>\n",
       "      <th>landsat_1</th>\n",
       "      <th>landsat_2</th>\n",
       "      <th>landsat_3</th>\n",
       "      <th>landsat_4</th>\n",
       "      <th>landsat_5</th>\n",
       "      <th>landsat_6</th>\n",
       "      <th>dem_1</th>\n",
       "      <th>aspect_1</th>\n",
       "      <th>posidex_1</th>\n",
       "      <th>wetlands_1</th>\n",
       "      <th>landcover_1</th>\n",
       "      <th>impervious_1</th>\n",
       "      <th>urban_count_7</th>\n",
       "      <th>urban_count_5</th>\n",
       "      <th>urban_count_3</th>\n",
       "      <th>xgeo</th>\n",
       "      <th>ygeo</th>\n",
       "    </tr>\n",
       "  </thead>\n",
       "  <tbody>\n",
       "    <tr>\n",
       "      <th>499995</th>\n",
       "      <td>257</td>\n",
       "      <td>504</td>\n",
       "      <td>474</td>\n",
       "      <td>2794</td>\n",
       "      <td>1555</td>\n",
       "      <td>733</td>\n",
       "      <td>340</td>\n",
       "      <td>12</td>\n",
       "      <td>38</td>\n",
       "      <td>0</td>\n",
       "      <td>21</td>\n",
       "      <td>16</td>\n",
       "      <td>35</td>\n",
       "      <td>18</td>\n",
       "      <td>7</td>\n",
       "      <td>1.065225e+06</td>\n",
       "      <td>1.290975e+06</td>\n",
       "    </tr>\n",
       "    <tr>\n",
       "      <th>499996</th>\n",
       "      <td>202</td>\n",
       "      <td>386</td>\n",
       "      <td>207</td>\n",
       "      <td>3367</td>\n",
       "      <td>1275</td>\n",
       "      <td>476</td>\n",
       "      <td>325</td>\n",
       "      <td>10</td>\n",
       "      <td>47</td>\n",
       "      <td>0</td>\n",
       "      <td>42</td>\n",
       "      <td>0</td>\n",
       "      <td>0</td>\n",
       "      <td>0</td>\n",
       "      <td>0</td>\n",
       "      <td>1.074765e+06</td>\n",
       "      <td>1.298895e+06</td>\n",
       "    </tr>\n",
       "    <tr>\n",
       "      <th>499997</th>\n",
       "      <td>158</td>\n",
       "      <td>352</td>\n",
       "      <td>210</td>\n",
       "      <td>3074</td>\n",
       "      <td>1433</td>\n",
       "      <td>500</td>\n",
       "      <td>258</td>\n",
       "      <td>16</td>\n",
       "      <td>54</td>\n",
       "      <td>0</td>\n",
       "      <td>41</td>\n",
       "      <td>0</td>\n",
       "      <td>3</td>\n",
       "      <td>0</td>\n",
       "      <td>0</td>\n",
       "      <td>1.043805e+06</td>\n",
       "      <td>1.245045e+06</td>\n",
       "    </tr>\n",
       "    <tr>\n",
       "      <th>499998</th>\n",
       "      <td>143</td>\n",
       "      <td>378</td>\n",
       "      <td>233</td>\n",
       "      <td>3098</td>\n",
       "      <td>1217</td>\n",
       "      <td>503</td>\n",
       "      <td>274</td>\n",
       "      <td>9</td>\n",
       "      <td>-1</td>\n",
       "      <td>0</td>\n",
       "      <td>21</td>\n",
       "      <td>1</td>\n",
       "      <td>34</td>\n",
       "      <td>18</td>\n",
       "      <td>6</td>\n",
       "      <td>1.055205e+06</td>\n",
       "      <td>1.231785e+06</td>\n",
       "    </tr>\n",
       "    <tr>\n",
       "      <th>499999</th>\n",
       "      <td>461</td>\n",
       "      <td>861</td>\n",
       "      <td>812</td>\n",
       "      <td>3726</td>\n",
       "      <td>2853</td>\n",
       "      <td>1489</td>\n",
       "      <td>422</td>\n",
       "      <td>6</td>\n",
       "      <td>19</td>\n",
       "      <td>0</td>\n",
       "      <td>0</td>\n",
       "      <td>0</td>\n",
       "      <td>1</td>\n",
       "      <td>0</td>\n",
       "      <td>0</td>\n",
       "      <td>1.113525e+06</td>\n",
       "      <td>1.345005e+06</td>\n",
       "    </tr>\n",
       "  </tbody>\n",
       "</table>\n",
       "</div>"
      ],
      "text/plain": [
       "        landsat_1  landsat_2  landsat_3  landsat_4  landsat_5  landsat_6   \n",
       "499995        257        504        474       2794       1555        733  \\\n",
       "499996        202        386        207       3367       1275        476   \n",
       "499997        158        352        210       3074       1433        500   \n",
       "499998        143        378        233       3098       1217        503   \n",
       "499999        461        861        812       3726       2853       1489   \n",
       "\n",
       "        dem_1  aspect_1  posidex_1  wetlands_1  landcover_1  impervious_1   \n",
       "499995    340        12         38           0           21            16  \\\n",
       "499996    325        10         47           0           42             0   \n",
       "499997    258        16         54           0           41             0   \n",
       "499998    274         9         -1           0           21             1   \n",
       "499999    422         6         19           0            0             0   \n",
       "\n",
       "        urban_count_7  urban_count_5  urban_count_3          xgeo   \n",
       "499995             35             18              7  1.065225e+06  \\\n",
       "499996              0              0              0  1.074765e+06   \n",
       "499997              3              0              0  1.043805e+06   \n",
       "499998             34             18              6  1.055205e+06   \n",
       "499999              1              0              0  1.113525e+06   \n",
       "\n",
       "                ygeo  \n",
       "499995  1.290975e+06  \n",
       "499996  1.298895e+06  \n",
       "499997  1.245045e+06  \n",
       "499998  1.231785e+06  \n",
       "499999  1.345005e+06  "
      ]
     },
     "execution_count": 15,
     "metadata": {},
     "output_type": "execute_result"
    }
   ],
   "source": [
    "csv.tail()"
   ]
  },
  {
   "cell_type": "markdown",
   "id": "8dda3335-66af-42ea-97b1-dafca0ff48b6",
   "metadata": {},
   "source": [
    "## 12. Print the column names"
   ]
  },
  {
   "cell_type": "code",
   "execution_count": 16,
   "id": "3894f963",
   "metadata": {},
   "outputs": [
    {
     "data": {
      "text/plain": [
       "Index(['landsat_1', 'landsat_2', 'landsat_3', 'landsat_4', 'landsat_5',\n",
       "       'landsat_6', 'dem_1', 'aspect_1', 'posidex_1', 'wetlands_1',\n",
       "       'landcover_1', 'impervious_1', 'urban_count_7', 'urban_count_5',\n",
       "       'urban_count_3', 'xgeo', 'ygeo'],\n",
       "      dtype='object')"
      ]
     },
     "execution_count": 16,
     "metadata": {},
     "output_type": "execute_result"
    }
   ],
   "source": [
    "csv.columns"
   ]
  },
  {
   "cell_type": "markdown",
   "id": "30b00012-c2b2-4cc7-b891-9f8c6ff32dfe",
   "metadata": {},
   "source": [
    "## 13.  Print dimensions of the dataset\n",
    "> You will get this in the form __(rows,columns)__"
   ]
  },
  {
   "cell_type": "code",
   "execution_count": 17,
   "id": "86a5b221",
   "metadata": {},
   "outputs": [
    {
     "data": {
      "text/plain": [
       "(500000, 17)"
      ]
     },
     "execution_count": 17,
     "metadata": {},
     "output_type": "execute_result"
    }
   ],
   "source": [
    "csv.shape"
   ]
  },
  {
   "cell_type": "markdown",
   "id": "087d969a-bda7-4788-8ea9-4cac682e66e4",
   "metadata": {},
   "source": [
    "## 14. Print a summary of the dataset by using the info function"
   ]
  },
  {
   "cell_type": "code",
   "execution_count": 18,
   "id": "146b4e32",
   "metadata": {},
   "outputs": [
    {
     "name": "stdout",
     "output_type": "stream",
     "text": [
      "<class 'pandas.core.frame.DataFrame'>\n",
      "RangeIndex: 500000 entries, 0 to 499999\n",
      "Data columns (total 17 columns):\n",
      " #   Column         Non-Null Count   Dtype  \n",
      "---  ------         --------------   -----  \n",
      " 0   landsat_1      500000 non-null  int64  \n",
      " 1   landsat_2      500000 non-null  int64  \n",
      " 2   landsat_3      500000 non-null  int64  \n",
      " 3   landsat_4      500000 non-null  int64  \n",
      " 4   landsat_5      500000 non-null  int64  \n",
      " 5   landsat_6      500000 non-null  int64  \n",
      " 6   dem_1          500000 non-null  int64  \n",
      " 7   aspect_1       500000 non-null  int64  \n",
      " 8   posidex_1      500000 non-null  int64  \n",
      " 9   wetlands_1     500000 non-null  int64  \n",
      " 10  landcover_1    500000 non-null  int64  \n",
      " 11  impervious_1   500000 non-null  int64  \n",
      " 12  urban_count_7  500000 non-null  int64  \n",
      " 13  urban_count_5  500000 non-null  int64  \n",
      " 14  urban_count_3  500000 non-null  int64  \n",
      " 15  xgeo           500000 non-null  float64\n",
      " 16  ygeo           500000 non-null  float64\n",
      "dtypes: float64(2), int64(15)\n",
      "memory usage: 64.8 MB\n"
     ]
    }
   ],
   "source": [
    "csv.info()"
   ]
  },
  {
   "cell_type": "markdown",
   "id": "b885eade-27d6-4a1e-8bd0-af42c043cb93",
   "metadata": {},
   "source": [
    "# OPTIONAL \n",
    "> Create shapefiles to vizualize points in QGIS (drop all columns except the xgeo, ygeo), use the CRS from the Landcover raster"
   ]
  }
 ],
 "metadata": {
  "kernelspec": {
   "display_name": "conda_python3",
   "language": "python",
   "name": "conda_python3"
  },
  "language_info": {
   "codemirror_mode": {
    "name": "ipython",
    "version": 3
   },
   "file_extension": ".py",
   "mimetype": "text/x-python",
   "name": "python",
   "nbconvert_exporter": "python",
   "pygments_lexer": "ipython3",
   "version": "3.10.10"
  }
 },
 "nbformat": 4,
 "nbformat_minor": 5
}
